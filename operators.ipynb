{
 "cells": [
  {
   "cell_type": "code",
   "execution_count": null,
   "metadata": {},
   "outputs": [],
   "source": [
    "#operators\n",
    "#Arithmetic operators\n",
    "#Relational operators\n",
    "#Comparison operators\n",
    "#Logical operators\n",
    "#Assignment operators\n",
    "#Bitwise operators\n",
    "#Membership operators\n",
    "#Identify operators\n"
   ]
  },
  {
   "cell_type": "code",
   "execution_count": 30,
   "metadata": {},
   "outputs": [
    {
     "name": "stdout",
     "output_type": "stream",
     "text": [
      "20\n",
      "20.6\n",
      "(20+2j)\n",
      "11\n",
      "operation on string : \n",
      "\n",
      "pythoncode\n",
      "\n",
      "\n",
      "# operation on list :\n",
      "\n",
      "[1, 2, 3, 4, 5, 1]\n",
      "[1, 2, ['raja'], 4]\n"
     ]
    }
   ],
   "source": [
    "print(10+10)\n",
    "print(10+10.6)\n",
    "print(10+(10+2j))\n",
    "print(10+True)\n",
    "\n",
    "# concatination\n",
    "print('operation on string : \\n')\n",
    "a=\"python\"\n",
    "b=2\n",
    "c=10+2j\n",
    "d=False\n",
    "e='code'\n",
    "print(a+e)\n",
    "print('\\n')\n",
    "\n",
    "# on list\n",
    "print('# operation on list :\\n')\n",
    "l1=[1,2,3]\n",
    "l2=[4,5,1]\n",
    "print(l1+l2)\n",
    "\n",
    "l3=[1,2,['raja']]\n",
    "l4=[4]\n",
    "print(l3+l4)"
   ]
  },
  {
   "cell_type": "code",
   "execution_count": 13,
   "metadata": {},
   "outputs": [
    {
     "name": "stdout",
     "output_type": "stream",
     "text": [
      "True\n",
      "False\n",
      "False\n",
      "False\n"
     ]
    }
   ],
   "source": [
    "# lessthan or equals\n",
    "print(10<=10)\n",
    "print(10.0<10)\n",
    "print(['raja']<['raja'])\n",
    "print(('raja',)<('raja',))"
   ]
  }
 ],
 "metadata": {
  "kernelspec": {
   "display_name": "Python 3",
   "language": "python",
   "name": "python3"
  },
  "language_info": {
   "codemirror_mode": {
    "name": "ipython",
    "version": 3
   },
   "file_extension": ".py",
   "mimetype": "text/x-python",
   "name": "python",
   "nbconvert_exporter": "python",
   "pygments_lexer": "ipython3",
   "version": "3.11.4"
  }
 },
 "nbformat": 4,
 "nbformat_minor": 2
}
