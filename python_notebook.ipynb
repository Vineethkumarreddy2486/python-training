{
 "cells": [
  {
   "cell_type": "code",
   "execution_count": 1,
   "metadata": {},
   "outputs": [
    {
     "name": "stdout",
     "output_type": "stream",
     "text": [
      "10\n"
     ]
    }
   ],
   "source": [
    "a=10\n",
    "print(a)"
   ]
  },
  {
   "cell_type": "code",
   "execution_count": 1,
   "metadata": {},
   "outputs": [
    {
     "name": "stdout",
     "output_type": "stream",
     "text": [
      "<class 'str'>\n",
      "vinny\n"
     ]
    }
   ],
   "source": [
    "str='vinny'\n",
    "print(type(str))\n",
    "print(str)"
   ]
  },
  {
   "cell_type": "code",
   "execution_count": 3,
   "metadata": {},
   "outputs": [
    {
     "name": "stdout",
     "output_type": "stream",
     "text": [
      "[1, 2, 1, 2, 3, 3, 4, 5]\n",
      "<class 'list'>\n"
     ]
    }
   ],
   "source": [
    "#list supports duplicate elements\n",
    "l1=[1,2,1,2,3,3,4,5]\n",
    "print(l1)\n",
    "print(type(l1))\n"
   ]
  },
  {
   "cell_type": "code",
   "execution_count": 9,
   "metadata": {},
   "outputs": [
    {
     "name": "stdout",
     "output_type": "stream",
     "text": [
      "my name\n"
     ]
    }
   ],
   "source": [
    "print('my name')"
   ]
  },
  {
   "cell_type": "code",
   "execution_count": 5,
   "metadata": {},
   "outputs": [
    {
     "name": "stdout",
     "output_type": "stream",
     "text": [
      "[1, [2, 3, 'vineeth']]\n",
      "1\n",
      "vineeth\n",
      "v\n",
      "i\n",
      "n\n",
      "e\n",
      "e\n",
      "t\n",
      "h\n"
     ]
    }
   ],
   "source": [
    "l=[1,[2,3,'vineeth']]\n",
    "print(l)\n",
    "print(l[0])\n",
    "print(l[1][2])\n",
    "print(l[1][2][0])\n",
    "print(l[1][2][1])\n",
    "print(l[1][2][2])\n",
    "print(l[1][2][3])\n",
    "print(l[1][2][4])\n",
    "print(l[1][2][5])\n",
    "print(l[1][2][6])\n",
    "\n"
   ]
  },
  {
   "cell_type": "code",
   "execution_count": 13,
   "metadata": {},
   "outputs": [
    {
     "name": "stdout",
     "output_type": "stream",
     "text": [
      "(1, 2, 2, 2, 2, 2, 3, 'vineeth')\n"
     ]
    }
   ],
   "source": [
    "tup=1,2,2,2,2,2,3,'vineeth'\n",
    "print(tup)"
   ]
  },
  {
   "cell_type": "code",
   "execution_count": 10,
   "metadata": {},
   "outputs": [
    {
     "name": "stdout",
     "output_type": "stream",
     "text": [
      "[1, 2, 3, 4, 5]\n",
      "[2, 3, 4, 5]\n",
      "[2]\n"
     ]
    }
   ],
   "source": [
    "l=[1,2,3,4,5]\n",
    "print(l)\n",
    "l.remove(1)\n",
    "print(l)\n",
    "del l[1: ]\n",
    "print(l)"
   ]
  },
  {
   "cell_type": "code",
   "execution_count": null,
   "metadata": {},
   "outputs": [],
   "source": [
    "set is a collection of homogeneous and heterogeneous elements/datas/objectives\n",
    "it is enclosed with curly braces,and elements in set are seperated by using comma\n",
    "set is unordered object\n",
    "set doesnot allows indexing and duplicate elements\n",
    "set is mutable and it stores the immutable data types\n",
    "\n",
    "\n",
    "\n",
    "\n",
    "dictionay is the collection of  key-value pairs which are enclosed by the curly braces,key-value are seperate by colon and key-value seperated by comma.\n",
    "keys should be immutabele data type and values can any kind of data types\n",
    "keys must be unique\n",
    "values can be repeated\n",
    "variable name={key1:value1,key2:value2,..............keyn:valuen}"
   ]
  },
  {
   "cell_type": "code",
   "execution_count": null,
   "metadata": {},
   "outputs": [],
   "source": [
    "a=int(input('enter any integer'))\n",
    "for i in range(2,a):\n",
    "    if a%i==0:\n",
    "        print('not prime')\n",
    "        break\n",
    "    else:\n",
    "        print('prime number')"
   ]
  }
 ],
 "metadata": {
  "kernelspec": {
   "display_name": "Python 3",
   "language": "python",
   "name": "python3"
  },
  "language_info": {
   "codemirror_mode": {
    "name": "ipython",
    "version": 3
   },
   "file_extension": ".py",
   "mimetype": "text/x-python",
   "name": "python",
   "nbconvert_exporter": "python",
   "pygments_lexer": "ipython3",
   "version": "3.11.4"
  }
 },
 "nbformat": 4,
 "nbformat_minor": 2
}
