{
 "cells": [
  {
   "cell_type": "code",
   "execution_count": null,
   "metadata": {},
   "outputs": [],
   "source": [
    "#slicing on list\n",
    "slicing is the process of reading or retriving the multiple characters/elements from the list\n",
    "\n",
    "syntax:-variablename[SI:EI:updation]\n",
    "\n",
    "updation can be positive or negative\n",
    "if the updation is positive then the direction flows from left to right\n",
    "if the updation is negative then the direction flows from rigth to left\n",
    "\n",
    "#rules to be checked to perform slicing\n",
    "1.check the SI \n",
    "2.check the updation\n",
    "3.check the EI\n",
    "if the EI is represented in the same direction of the control then you will get the output\n",
    " else you will get an empty space\n",
    "* if the SI is  not given then it takes reading from the beginning by  default.\n",
    "* if the EI is not given then it reads till the end of the given object from the given start index value.\n"
   ]
  },
  {
   "cell_type": "code",
   "execution_count": 7,
   "metadata": {},
   "outputs": [
    {
     "name": "stdout",
     "output_type": "stream",
     "text": [
      "py\n",
      "p\n",
      "pytho\n",
      "\n"
     ]
    }
   ],
   "source": [
    "l='python'\n",
    "print(l[0:2])\n",
    "print(l[:1])\n",
    "print(l[0:5:1])\n",
    "print(l[4:5-1])"
   ]
  },
  {
   "cell_type": "code",
   "execution_count": 5,
   "metadata": {},
   "outputs": [
    {
     "name": "stdout",
     "output_type": "stream",
     "text": [
      "jar\n",
      "['zero', 'rani', 'raja']\n",
      "rajarani\n"
     ]
    }
   ],
   "source": [
    "l=[1,2,3,100,'raja','rani','zero']\n",
    "print(l[4][2::-1])\n",
    "print(l[6:3:-1])\n",
    "print(l[-3]+l[-2])"
   ]
  }
 ],
 "metadata": {
  "kernelspec": {
   "display_name": "Python 3",
   "language": "python",
   "name": "python3"
  },
  "language_info": {
   "codemirror_mode": {
    "name": "ipython",
    "version": 3
   },
   "file_extension": ".py",
   "mimetype": "text/x-python",
   "name": "python",
   "nbconvert_exporter": "python",
   "pygments_lexer": "ipython3",
   "version": "3.11.4"
  }
 },
 "nbformat": 4,
 "nbformat_minor": 2
}
