{
 "cells": [
  {
   "cell_type": "code",
   "execution_count": 8,
   "metadata": {},
   "outputs": [
    {
     "name": "stdout",
     "output_type": "stream",
     "text": [
      "hello good morning\n"
     ]
    }
   ],
   "source": [
    "num=9\n",
    "if num>2:\n",
    "    print('hello good morning')"
   ]
  },
  {
   "cell_type": "code",
   "execution_count": 29,
   "metadata": {},
   "outputs": [
    {
     "name": "stdout",
     "output_type": "stream",
     "text": [
      "56\n",
      "16\n",
      "720\n",
      "1.8\n",
      "16\n",
      "1\n",
      "program end\n"
     ]
    }
   ],
   "source": [
    "num=36\n",
    "if num>30 and num<40:\n",
    "    print(num+\n",
    "          20)\n",
    "    print(num-20)\n",
    "    print(num*20)\n",
    "    print(num/20)\n",
    "    print(num%20)\n",
    "    print(num//20)\n",
    "print('program end')\n",
    "\n"
   ]
  },
  {
   "cell_type": "code",
   "execution_count": 28,
   "metadata": {},
   "outputs": [
    {
     "name": "stdout",
     "output_type": "stream",
     "text": [
      "6\n",
      "26\n",
      "26\n"
     ]
    }
   ],
   "source": [
    "num=6\n",
    "print(num)\n",
    "if num%3==0:\n",
    "    num += 20 \n",
    "    print(num) \n",
    "print(num) "
   ]
  },
  {
   "cell_type": "code",
   "execution_count": 37,
   "metadata": {},
   "outputs": [
    {
     "name": "stdout",
     "output_type": "stream",
     "text": [
      "48\n",
      "24\n"
     ]
    }
   ],
   "source": [
    "num=24\n",
    "if num%2==0 and num>20:\n",
    "    print(num*2)\n",
    "print(num)"
   ]
  },
  {
   "cell_type": "code",
   "execution_count": 27,
   "metadata": {},
   "outputs": [
    {
     "name": "stdout",
     "output_type": "stream",
     "text": [
      "65\n"
     ]
    }
   ],
   "source": [
    "ch='A'\n",
    "if ch>='a' and ch<='z' or ch>='A' and ch<'Z':\n",
    "    print(ord(ch))"
   ]
  },
  {
   "cell_type": "code",
   "execution_count": 35,
   "metadata": {},
   "outputs": [
    {
     "name": "stdout",
     "output_type": "stream",
     "text": [
      "G\n",
      "program end\n"
     ]
    }
   ],
   "source": [
    "char='g'\n",
    "if char>='a' and char<'z':\n",
    "      ch=ord(char)-32\n",
    "      print(chr(ch))\n",
    "print('program end')\n",
    "  "
   ]
  },
  {
   "cell_type": "code",
   "execution_count": 11,
   "metadata": {},
   "outputs": [
    {
     "name": "stdout",
     "output_type": "stream",
     "text": [
      "6\n"
     ]
    }
   ],
   "source": [
    "ch='8'\n",
    "if char>='0'and ch<='9':\n",
    "    asciivalue=ord(ch)\n",
    "    lastdigit=asciivalue%10\n",
    "    print(lastdigit)"
   ]
  },
  {
   "cell_type": "code",
   "execution_count": 14,
   "metadata": {},
   "outputs": [
    {
     "name": "stdout",
     "output_type": "stream",
     "text": [
      "they are eligible\n"
     ]
    }
   ],
   "source": [
    "age1=18\n",
    "age2=19\n",
    "if (age1 and age2)>=18:\n",
    "    print('they are eligible')"
   ]
  },
  {
   "cell_type": "code",
   "execution_count": 18,
   "metadata": {},
   "outputs": [
    {
     "name": "stdout",
     "output_type": "stream",
     "text": [
      "they are eligible for marraige\n"
     ]
    }
   ],
   "source": [
    "girl=21\n",
    "boy=24\n",
    "if girl>=21 and boy>=23:\n",
    "    print('they are eligible for marraige')"
   ]
  },
  {
   "cell_type": "code",
   "execution_count": 15,
   "metadata": {},
   "outputs": [
    {
     "name": "stdout",
     "output_type": "stream",
     "text": [
      "8\n"
     ]
    }
   ],
   "source": [
    "num=123456789\n",
    "if num>25 and num<40 and num%3==0:\n",
    "    print(num%10)\n",
    "else:\n",
    "    print((num//10)%10)    "
   ]
  },
  {
   "cell_type": "code",
   "execution_count": 6,
   "metadata": {},
   "outputs": [
    {
     "name": "stdout",
     "output_type": "stream",
     "text": [
      "negative\n"
     ]
    }
   ],
   "source": [
    "num=-1\n",
    "if num>=0:\n",
    "    print('positive')\n",
    "else:\n",
    "    print('negative')"
   ]
  },
  {
   "cell_type": "code",
   "execution_count": 10,
   "metadata": {},
   "outputs": [
    {
     "name": "stdout",
     "output_type": "stream",
     "text": [
      "hello world\n"
     ]
    }
   ],
   "source": [
    "num=3\n",
    "if num>1 and num<5:\n",
    "    print('hello world')\n"
   ]
  },
  {
   "cell_type": "code",
   "execution_count": 12,
   "metadata": {},
   "outputs": [
    {
     "name": "stdout",
     "output_type": "stream",
     "text": [
      "fizz\n"
     ]
    }
   ],
   "source": [
    "num=234\n",
    "if num%3==0:\n",
    "    print('fizz')\n"
   ]
  },
  {
   "cell_type": "code",
   "execution_count": 13,
   "metadata": {},
   "outputs": [
    {
     "name": "stdout",
     "output_type": "stream",
     "text": [
      "(18+0j)\n"
     ]
    }
   ],
   "source": [
    "num=18\n",
    "if (num%2 and num%6)==0:\n",
    "    print(complex(num))"
   ]
  },
  {
   "cell_type": "code",
   "execution_count": 21,
   "metadata": {},
   "outputs": [
    {
     "name": "stdout",
     "output_type": "stream",
     "text": [
      "['3', '0']\n"
     ]
    }
   ],
   "source": [
    "num=30\n",
    "if (num%3 or num%5)==0:\n",
    "    res=list(str(num))\n",
    "    print(res)"
   ]
  },
  {
   "cell_type": "code",
   "execution_count": 23,
   "metadata": {},
   "outputs": [
    {
     "name": "stdout",
     "output_type": "stream",
     "text": [
      "yes it is\n"
     ]
    }
   ],
   "source": [
    "num=35\n",
    "if num%5==0:\n",
    "    print('yes it is')\n"
   ]
  },
  {
   "cell_type": "code",
   "execution_count": 26,
   "metadata": {},
   "outputs": [
    {
     "name": "stdout",
     "output_type": "stream",
     "text": [
      "zero\n"
     ]
    }
   ],
   "source": [
    "num=0.0000000000000\n",
    "if num==0:\n",
    "    print('zero')"
   ]
  },
  {
   "cell_type": "code",
   "execution_count": 28,
   "metadata": {},
   "outputs": [
    {
     "name": "stdout",
     "output_type": "stream",
     "text": [
      "negative\n"
     ]
    }
   ],
   "source": [
    "num=-2\n",
    "if num<0:\n",
    "    print('negative')"
   ]
  },
  {
   "cell_type": "code",
   "execution_count": 31,
   "metadata": {},
   "outputs": [
    {
     "name": "stdout",
     "output_type": "stream",
     "text": [
      "['1', '2', '3', '4', '5', '6', '7', '8', '9', '0']\n"
     ]
    }
   ],
   "source": [
    "num=1234567890\n",
    "if num%2==0:\n",
    "    print(list(str(num)))"
   ]
  },
  {
   "cell_type": "code",
   "execution_count": 36,
   "metadata": {},
   "outputs": [
    {
     "name": "stdout",
     "output_type": "stream",
     "text": [
      "('3', '4', '5', '6', '7', '8')\n"
     ]
    }
   ],
   "source": [
    "num=345678\n",
    "if num%3==0:\n",
    "    print(tuple(str(num)))"
   ]
  },
  {
   "cell_type": "code",
   "execution_count": 37,
   "metadata": {},
   "outputs": [
    {
     "name": "stdout",
     "output_type": "stream",
     "text": [
      "4936\n"
     ]
    }
   ],
   "source": [
    "num=1234\n",
    "if num%2==0:\n",
    "    print(num*4)"
   ]
  },
  {
   "cell_type": "code",
   "execution_count": 45,
   "metadata": {},
   "outputs": [
    {
     "name": "stdout",
     "output_type": "stream",
     "text": [
      "446913578\n"
     ]
    }
   ],
   "source": [
    "a=223456789\n",
    "if a>=0 or a<0:\n",
    "    print(a+a)\n"
   ]
  },
  {
   "cell_type": "code",
   "execution_count": 47,
   "metadata": {},
   "outputs": [
    {
     "name": "stdout",
     "output_type": "stream",
     "text": [
      "1225\n"
     ]
    }
   ],
   "source": [
    "num=35\n",
    "if (num%7 and num%5)==0:\n",
    "    print(num**2)"
   ]
  },
  {
   "cell_type": "code",
   "execution_count": 53,
   "metadata": {},
   "outputs": [
    {
     "name": "stdout",
     "output_type": "stream",
     "text": [
      "64\n"
     ]
    }
   ],
   "source": [
    "num=16\n",
    "if num%10>5:\n",
    "    print(num<<2)"
   ]
  },
  {
   "cell_type": "code",
   "execution_count": 54,
   "metadata": {},
   "outputs": [
    {
     "name": "stdout",
     "output_type": "stream",
     "text": [
      "3969\n"
     ]
    }
   ],
   "source": [
    "num=63\n",
    "if num%3==0 and num>30:\n",
    "    print(num**2)"
   ]
  },
  {
   "cell_type": "code",
   "execution_count": 55,
   "metadata": {},
   "outputs": [
    {
     "name": "stdout",
     "output_type": "stream",
     "text": [
      "89915392\n"
     ]
    }
   ],
   "source": [
    "num=448\n",
    "if num%4==0 and num%2==0:\n",
    "    print(num**3)"
   ]
  },
  {
   "cell_type": "code",
   "execution_count": 56,
   "metadata": {},
   "outputs": [
    {
     "name": "stdout",
     "output_type": "stream",
     "text": [
      "['1', '2', '3', '4', '5', '6', '7', '8', '1', '2', '3', '4', '5', '6', '7', '8']\n"
     ]
    }
   ],
   "source": [
    "num=1234567812345678\n",
    "if num%2==0:\n",
    "    print(list(str(num)))"
   ]
  },
  {
   "cell_type": "code",
   "execution_count": 61,
   "metadata": {},
   "outputs": [
    {
     "name": "stdout",
     "output_type": "stream",
     "text": [
      "8\n"
     ]
    }
   ],
   "source": [
    "num=12345678\n",
    "if num<0 or num%2==0:\n",
    "    print(num%10)"
   ]
  },
  {
   "cell_type": "code",
   "execution_count": 76,
   "metadata": {},
   "outputs": [
    {
     "name": "stdout",
     "output_type": "stream",
     "text": [
      "2\n",
      "-1235\n"
     ]
    }
   ],
   "source": [
    "# doubt\n",
    "\n",
    "num=-12348\n",
    "print(num%10)\n",
    "print(num//10)"
   ]
  },
  {
   "cell_type": "code",
   "execution_count": 66,
   "metadata": {},
   "outputs": [
    {
     "name": "stdout",
     "output_type": "stream",
     "text": [
      "-64\n"
     ]
    }
   ],
   "source": [
    "num=-4\n",
    "if (num%2==0 or num<0) and num%4==0:\n",
    "    print(num**3)"
   ]
  },
  {
   "cell_type": "code",
   "execution_count": 69,
   "metadata": {},
   "outputs": [
    {
     "name": "stdout",
     "output_type": "stream",
     "text": [
      "6\n"
     ]
    }
   ],
   "source": [
    "num='8'\n",
    "if ord(num)%4==0:\n",
    "    print(ord(num)%10)"
   ]
  },
  {
   "cell_type": "code",
   "execution_count": 1,
   "metadata": {},
   "outputs": [
    {
     "name": "stdout",
     "output_type": "stream",
     "text": [
      "hrllo\n"
     ]
    }
   ],
   "source": [
    "# WAP to check whether a given value is present in between 25 to 100 and the number\n",
    "# should be divisible by 4 and 5. If satisfied, to display multiplication of given value\n",
    "# with 5.\n",
    "\n",
    "print( 'hrllo')"
   ]
  }
 ],
 "metadata": {
  "kernelspec": {
   "display_name": "Python 3",
   "language": "python",
   "name": "python3"
  },
  "language_info": {
   "codemirror_mode": {
    "name": "ipython",
    "version": 3
   },
   "file_extension": ".py",
   "mimetype": "text/x-python",
   "name": "python",
   "nbconvert_exporter": "python",
   "pygments_lexer": "ipython3",
   "version": "3.11.4"
  }
 },
 "nbformat": 4,
 "nbformat_minor": 2
}
